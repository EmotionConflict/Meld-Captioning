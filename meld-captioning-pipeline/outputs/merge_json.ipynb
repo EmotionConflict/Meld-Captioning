{
 "cells": [
  {
   "cell_type": "code",
   "execution_count": 1,
   "metadata": {},
   "outputs": [],
   "source": [
    "import pandas as pd\n",
    "import json\n",
    "\n",
    "# Load paths to your input files\n",
    "csv_path = \"test_labels_subset.csv\"  # replace with your actual path\n",
    "json_path = \"revised_final_annotations.json\"  # replace with your actual path\n",
    "output_json_path = \"updated_annotations.json\"  # desired output file name"
   ]
  },
  {
   "cell_type": "code",
   "execution_count": 2,
   "metadata": {},
   "outputs": [
    {
     "name": "stdout",
     "output_type": "stream",
     "text": [
      "CSV file preview:\n",
      "   Dialogue_ID  Utterance_ID Speaker  \\\n",
      "0          240             2    Dina   \n",
      "1           59             2  Rachel   \n",
      "2           12            11  Monica   \n",
      "3          119             0  Monica   \n",
      "4           46             3  Leslie   \n",
      "\n",
      "                                           Utterance  Emotion  \n",
      "0  What are you going to do? Kill him? Like you d...    anger  \n",
      "1      Whoa, I'm sorry. Excuse me. We had this cart.    anger  \n",
      "2                         Love is the best medicine.      joy  \n",
      "3  Okay, I got that. Ill escape over there. Ill...  neutral  \n",
      "4                        Dont care what people say.      joy  \n"
     ]
    }
   ],
   "source": [
    "# Read the CSV and show the first 5 rows\n",
    "csv_df = pd.read_csv(csv_path)\n",
    "print(\"CSV file preview:\")\n",
    "print(csv_df.head())"
   ]
  },
  {
   "cell_type": "code",
   "execution_count": 3,
   "metadata": {},
   "outputs": [
    {
     "name": "stdout",
     "output_type": "stream",
     "text": [
      "\n",
      "JSON file preview:\n",
      "{\n",
      "  \"video_id\": \"dia233_utt4.mp4\",\n",
      "  \"peak_time\": 0.13333333333333333,\n",
      "  \"visual_expression_description\": [\n",
      "    \"slightly Cheek Raiser\",\n",
      "    \"moderately Lid Tightener\",\n",
      "    \"moderately Upper Lip Raiser\",\n",
      "    \"slightly Lip Corner Puller\",\n",
      "    \"barely Chin Raiser\",\n",
      "    \"moderately Lips Part\",\n",
      "    \"moderately Jaw Drop\"\n",
      "  ],\n",
      "  \"visual_objective_description\": \"In this video frame, two women are engaged in a conversation inside a cozy, residential kitchen. The environment has a warm and inviting feel, marked by the presence of a classic refrigerator adorned with colorful magnets and drawings, suggesting a lived-in atmosphere.\\n\\nOne woman, positioned slightly to the right, has long, straight hair that falls past her shoulders. She wears a distinctive, colorful sweater featuring a patchwork of bright squares, including pink, yellow, and black. Her expression is animated; her mouth is open as she speaks passionately, and her eyebrows are raised, conveying intensity. Her posture is upright, with her head slightly tilted forward, indicating she is actively engaged in the discussion.\\n\\nThe other woman stands facing her, though her back is mostly visible. She has short, bobbed hair and is dressed in a fitted pink top that contrasts sharply with the bold patterns of her counterpart\\u2019s sweater. Her body language is closed off, with her arms crossed and her shoulders slightly hunched, suggesting she may be holding back or feeling defensive. Although her facial expression is not fully visible, her position signals a possible tension or disagreement.\\n\\nThe setting, with its light colors and casual decor, emphasizes an everyday life scenario, likely a moment of conflict or a serious discussion between friends. The interaction feels charged, reflecting a mix of friendship dynamics and personal stakes.\",\n",
      "  \"raw_AU_values_at_peak\": {\n",
      "    \"AU01\": 0.0,\n",
      "    \"AU02\": 0.0,\n",
      "    \"AU04\": 0.09,\n",
      "    \"AU05\": 0.0,\n",
      "    \"AU06\": 0.59,\n",
      "    \"AU07\": 1.44,\n",
      "    \"AU09\": 0.04,\n",
      "    \"AU10\": 1.25,\n",
      "    \"AU12\": 0.3,\n",
      "    \"AU14\": 0.0,\n",
      "    \"AU15\": 0.08,\n",
      "    \"AU17\": 0.11,\n",
      "    \"AU20\": 0.0,\n",
      "    \"AU23\": 0.0,\n",
      "    \"AU25\": 1.98,\n",
      "    \"AU26\": 1.68,\n",
      "    \"AU45\": 0.0\n",
      "  },\n",
      "  \"coarse-grained_summary\": \"In this video frame, two women are engaged in a conversation inside a cozy, residential kitchen. The environment has a warm and inviting feel, marked by the presence of a classic refrigerator adorned with colorful magnets and drawings, suggesting a lived-in atmosphere.\\n\\nOne woman, positioned slightly to the right, has long, straight hair that falls past her shoulders. She wears a distinctive, colorful sweater featuring a patchwork of bright squares, including pink, yellow, and black. Her expression is animated; her mouth is open as she speaks passionately, and her eyebrows are raised, conveying intensity. Her posture is upright, with her head slightly tilted forward, indicating she is actively engaged in the discussion.\\n\\nThe other woman stands facing her, though her back is mostly visible. She has short, bobbed hair and is dressed in a fitted pink top that contrasts sharply with the bold patterns of her counterpart\\u2019s sweater. Her body language is closed off, with her arms crossed and her shoulders slightly hunched, suggesting she may be holding back or feeling defensive. Although her facial expression is not fully visible, her position signals a possible tension or disagreement.\\n\\nThe setting, with its light colors and casual decor, emphasizes an everyday life scenario, likely a moment of conflict or a serious discussion between friends. The interaction feels charged, reflecting a mix of friendship dynamics and personal stakes. The facial expressions include slightly Cheek Raiser, moderately Lid Tightener, moderately Upper Lip Raiser, slightly Lip Corner Puller, barely Chin Raiser, moderately Lips Part, moderately Jaw Drop. Saying: 'Yes, but I wanted you to want to live with me, but okay, if you're having so much fun over here'. The speaker's vocal delivery in this audio is expressive and monotonous. Their pitch ranges from a high-pitched, almost child-like tone to a low, grumbly tone. They speak in a slow, measured pace, with occasional pauses and hesitations. Their voice quality is clear, with no noticeable roughness or strain. They enunciate their words clearly, with no slurring or stuttering. Overall, their vocal delivery suggests that they are expressing a mix of emotions, including frustration, sadness, and perhaps a hint of anger..\",\n",
      "  \"fine-grained_summary\": \"The correct emotional cue that suggests sadness in this scenario is the mix of emotions expressed in the individual's vocal delivery. The emotional cues such as frustration, sadness, and a hint of anger in the speaker's voice point towards a feeling of sadness. The slow, measured pace of speech, occasional pauses, and hesitations indicate that the speaker is grappling with complex emotions, possibly centered around a sense of disappointment or hurt. The clarity in the voice quality, combined with the enunciation of words without slurring or stuttering, suggests a deliberate effort to convey their feelings, which could stem from a sense of sadness in the context of the conversation.\",\n",
      "  \"audio_description\": \"The speaker's vocal delivery in this audio is expressive and monotonous. Their pitch ranges from a high-pitched, almost child-like tone to a low, grumbly tone. They speak in a slow, measured pace, with occasional pauses and hesitations. Their voice quality is clear, with no noticeable roughness or strain. They enunciate their words clearly, with no slurring or stuttering. Overall, their vocal delivery suggests that they are expressing a mix of emotions, including frustration, sadness, and perhaps a hint of anger.\"\n",
      "}\n",
      "{\n",
      "  \"video_id\": \"dia175_utt3.mp4\",\n",
      "  \"peak_time\": 0.4,\n",
      "  \"visual_expression_description\": [\n",
      "    \"slightly Brow Lowerer\",\n",
      "    \"barely Upper Lid Raiser\",\n",
      "    \"moderately Cheek Raiser\",\n",
      "    \"slightly Lid Tightener\",\n",
      "    \"slightly Nose Wrinkler\",\n",
      "    \"slightly Upper Lip Raiser\",\n",
      "    \"moderately Lip Corner Puller\",\n",
      "    \"slightly Dimpler\",\n",
      "    \"barely Chin Raiser\",\n",
      "    \"moderately Lips Part\",\n",
      "    \"moderately Jaw Drop\"\n",
      "  ],\n",
      "  \"visual_objective_description\": \"In this scene, we see two characters engaged in a lighthearted interaction. The man standing to the left has tousled dark hair and is dressed in a casual, light gray hoodie. He has a slight grin on his face, suggesting a playful mood. His body is slightly turned towards the woman, indicating his engagement in the conversation. He gestures with one hand, showing a playful or teasing demeanor, possibly making a point or emphasizing something he's saying.\\n\\nThe woman, positioned slightly to the right and with her back partially to the viewer, has shoulder-length brown hair styled in loose waves. She is wearing a cozy purple top, her response to the man's words seems animated and engaged as she leans slightly forward. This posture suggests she is either intrigued or amused.\\n\\nBehind them, the walls are adorned with posters, including one featuring a kangaroo, which adds a quirky atmosphere to the setting. The lighting in the room is warm and inviting, enhancing the casual and relaxed feel of their interaction. Overall, the scene conveys an informal, friendly exchange, infused with humor and lightheartedness.\",\n",
      "  \"raw_AU_values_at_peak\": {\n",
      "    \"AU01\": 0.0,\n",
      "    \"AU02\": 0.06,\n",
      "    \"AU04\": 0.77,\n",
      "    \"AU05\": 0.14,\n",
      "    \"AU06\": 1.63,\n",
      "    \"AU07\": 0.91,\n",
      "    \"AU09\": 0.31,\n",
      "    \"AU10\": 0.75,\n",
      "    \"AU12\": 1.73,\n",
      "    \"AU14\": 0.59,\n",
      "    \"AU15\": 0.0,\n",
      "    \"AU17\": 0.19,\n",
      "    \"AU20\": 0.0,\n",
      "    \"AU23\": 0.0,\n",
      "    \"AU25\": 1.12,\n",
      "    \"AU26\": 1.37,\n",
      "    \"AU45\": 0.0\n",
      "  },\n",
      "  \"coarse-grained_summary\": \"In this scene, we see two characters engaged in a lighthearted interaction. The man standing to the left has tousled dark hair and is dressed in a casual, light gray hoodie. He has a slight grin on his face, suggesting a playful mood. His body is slightly turned towards the woman, indicating his engagement in the conversation. He gestures with one hand, showing a playful or teasing demeanor, possibly making a point or emphasizing something he's saying.\\n\\nThe woman, positioned slightly to the right and with her back partially to the viewer, has shoulder-length brown hair styled in loose waves. She is wearing a cozy purple top, her response to the man's words seems animated and engaged as she leans slightly forward. This posture suggests she is either intrigued or amused.\\n\\nBehind them, the walls are adorned with posters, including one featuring a kangaroo, which adds a quirky atmosphere to the setting. The lighting in the room is warm and inviting, enhancing the casual and relaxed feel of their interaction. Overall, the scene conveys an informal, friendly exchange, infused with humor and lightheartedness. The facial expressions include slightly Brow Lowerer, barely Upper Lid Raiser, moderately Cheek Raiser, slightly Lid Tightener, slightly Nose Wrinkler, slightly Upper Lip Raiser, moderately Lip Corner Puller, slightly Dimpler, barely Chin Raiser, moderately Lips Part, moderately Jaw Drop. Saying: 'If this is your idea of sexy talk?'. This is a man speaking, and his tone sounds negative..\",\n",
      "  \"fine-grained_summary\": \"The emotional cue indicating surprise is the moderately Jaw Drop in the set of facial expressions described in the scene. This particular movement of the jaw dropping slightly is a common physical reaction when someone is caught off guard or taken aback by something unexpected or shocking. In this context, the man's negative tone when saying, \\\"If this is your idea of sexy talk?\\\" likely catches the woman off guard, leading to a surprised reaction indicated by the moderately Jaw Drop. So, based on the specific facial expression mentioned, the emotion label of surprise is appropriate for the woman in this situation.\",\n",
      "  \"audio_description\": \"This is a man speaking, and his tone sounds negative.\"\n",
      "}\n"
     ]
    }
   ],
   "source": [
    "# Read the JSON and show the first 2 items\n",
    "with open(json_path, 'r') as f:\n",
    "    json_data = json.load(f)\n",
    "\n",
    "print(\"\\nJSON file preview:\")\n",
    "for item in json_data[:2]:\n",
    "    print(json.dumps(item, indent=2))"
   ]
  },
  {
   "cell_type": "code",
   "execution_count": 9,
   "metadata": {},
   "outputs": [],
   "source": [
    "# Step 1: Load the CSV file\n",
    "csv_df = pd.read_csv(csv_path)\n",
    "\n",
    "# Step 2: Create a new column 'video_id' to match the JSON format\n",
    "csv_df[\"video_id\"] = csv_df.apply(\n",
    "    lambda row: f\"dia{int(row['Dialogue_ID'])}_utt{int(row['Utterance_ID'])}.mp4\", axis=1\n",
    ")\n",
    "\n",
    "# Step 3: Create a dictionary for fast lookup: video_id -> {Utterance, Emotion}\n",
    "utterance_lookup = {\n",
    "    row[\"video_id\"]: {\"transcript\": row[\"Utterance\"], \"true_label\": row[\"Emotion\"]}\n",
    "    for _, row in csv_df.iterrows()\n",
    "}\n",
    "\n",
    "# Step 4: Load the JSON file\n",
    "with open(json_path, 'r') as f:\n",
    "    json_data = json.load(f)\n",
    "\n",
    "# Step 5: Append 'Utterance' and 'Emotion' to each JSON item if video_id matches\n",
    "for item in json_data:\n",
    "    video_id = item.get(\"video_id\")\n",
    "    if video_id in utterance_lookup:\n",
    "        item.update(utterance_lookup[video_id])\n"
   ]
  },
  {
   "cell_type": "code",
   "execution_count": 8,
   "metadata": {},
   "outputs": [
    {
     "name": "stdout",
     "output_type": "stream",
     "text": [
      "{'video_id': 'dia233_utt4.mp4', 'peak_time': 0.13333333333333333, 'visual_expression_description': ['slightly Cheek Raiser', 'moderately Lid Tightener', 'moderately Upper Lip Raiser', 'slightly Lip Corner Puller', 'barely Chin Raiser', 'moderately Lips Part', 'moderately Jaw Drop'], 'visual_objective_description': 'In this video frame, two women are engaged in a conversation inside a cozy, residential kitchen. The environment has a warm and inviting feel, marked by the presence of a classic refrigerator adorned with colorful magnets and drawings, suggesting a lived-in atmosphere.\\n\\nOne woman, positioned slightly to the right, has long, straight hair that falls past her shoulders. She wears a distinctive, colorful sweater featuring a patchwork of bright squares, including pink, yellow, and black. Her expression is animated; her mouth is open as she speaks passionately, and her eyebrows are raised, conveying intensity. Her posture is upright, with her head slightly tilted forward, indicating she is actively engaged in the discussion.\\n\\nThe other woman stands facing her, though her back is mostly visible. She has short, bobbed hair and is dressed in a fitted pink top that contrasts sharply with the bold patterns of her counterpart’s sweater. Her body language is closed off, with her arms crossed and her shoulders slightly hunched, suggesting she may be holding back or feeling defensive. Although her facial expression is not fully visible, her position signals a possible tension or disagreement.\\n\\nThe setting, with its light colors and casual decor, emphasizes an everyday life scenario, likely a moment of conflict or a serious discussion between friends. The interaction feels charged, reflecting a mix of friendship dynamics and personal stakes.', 'raw_AU_values_at_peak': {'AU01': 0.0, 'AU02': 0.0, 'AU04': 0.09, 'AU05': 0.0, 'AU06': 0.59, 'AU07': 1.44, 'AU09': 0.04, 'AU10': 1.25, 'AU12': 0.3, 'AU14': 0.0, 'AU15': 0.08, 'AU17': 0.11, 'AU20': 0.0, 'AU23': 0.0, 'AU25': 1.98, 'AU26': 1.68, 'AU45': 0.0}, 'coarse-grained_summary': \"In this video frame, two women are engaged in a conversation inside a cozy, residential kitchen. The environment has a warm and inviting feel, marked by the presence of a classic refrigerator adorned with colorful magnets and drawings, suggesting a lived-in atmosphere.\\n\\nOne woman, positioned slightly to the right, has long, straight hair that falls past her shoulders. She wears a distinctive, colorful sweater featuring a patchwork of bright squares, including pink, yellow, and black. Her expression is animated; her mouth is open as she speaks passionately, and her eyebrows are raised, conveying intensity. Her posture is upright, with her head slightly tilted forward, indicating she is actively engaged in the discussion.\\n\\nThe other woman stands facing her, though her back is mostly visible. She has short, bobbed hair and is dressed in a fitted pink top that contrasts sharply with the bold patterns of her counterpart’s sweater. Her body language is closed off, with her arms crossed and her shoulders slightly hunched, suggesting she may be holding back or feeling defensive. Although her facial expression is not fully visible, her position signals a possible tension or disagreement.\\n\\nThe setting, with its light colors and casual decor, emphasizes an everyday life scenario, likely a moment of conflict or a serious discussion between friends. The interaction feels charged, reflecting a mix of friendship dynamics and personal stakes. The facial expressions include slightly Cheek Raiser, moderately Lid Tightener, moderately Upper Lip Raiser, slightly Lip Corner Puller, barely Chin Raiser, moderately Lips Part, moderately Jaw Drop. Saying: 'Yes, but I wanted you to want to live with me, but okay, if you're having so much fun over here'. The speaker's vocal delivery in this audio is expressive and monotonous. Their pitch ranges from a high-pitched, almost child-like tone to a low, grumbly tone. They speak in a slow, measured pace, with occasional pauses and hesitations. Their voice quality is clear, with no noticeable roughness or strain. They enunciate their words clearly, with no slurring or stuttering. Overall, their vocal delivery suggests that they are expressing a mix of emotions, including frustration, sadness, and perhaps a hint of anger..\", 'fine-grained_summary': \"The correct emotional cue that suggests sadness in this scenario is the mix of emotions expressed in the individual's vocal delivery. The emotional cues such as frustration, sadness, and a hint of anger in the speaker's voice point towards a feeling of sadness. The slow, measured pace of speech, occasional pauses, and hesitations indicate that the speaker is grappling with complex emotions, possibly centered around a sense of disappointment or hurt. The clarity in the voice quality, combined with the enunciation of words without slurring or stuttering, suggests a deliberate effort to convey their feelings, which could stem from a sense of sadness in the context of the conversation.\", 'audio_description': \"The speaker's vocal delivery in this audio is expressive and monotonous. Their pitch ranges from a high-pitched, almost child-like tone to a low, grumbly tone. They speak in a slow, measured pace, with occasional pauses and hesitations. Their voice quality is clear, with no noticeable roughness or strain. They enunciate their words clearly, with no slurring or stuttering. Overall, their vocal delivery suggests that they are expressing a mix of emotions, including frustration, sadness, and perhaps a hint of anger.\", 'Transcript': \"Yes, but I wanted you to want to live with me, but okay, if you're having so much fun over here\", 'true_label': 'sadness'}\n"
     ]
    }
   ],
   "source": [
    "print(json_data[0])"
   ]
  },
  {
   "cell_type": "code",
   "execution_count": 10,
   "metadata": {},
   "outputs": [
    {
     "name": "stdout",
     "output_type": "stream",
     "text": [
      "Updated JSON saved to: updated_annotations.json\n"
     ]
    }
   ],
   "source": [
    "# Step 6: Save the updated JSON to a new file\n",
    "with open(output_json_path, 'w') as f:\n",
    "    json.dump(json_data, f, indent=4)\n",
    "\n",
    "print(f\"Updated JSON saved to: {output_json_path}\")"
   ]
  },
  {
   "cell_type": "code",
   "execution_count": 12,
   "metadata": {},
   "outputs": [
    {
     "name": "stdout",
     "output_type": "stream",
     "text": [
      "Reordered JSON saved to: sorted_annotations.json\n"
     ]
    }
   ],
   "source": [
    "import json\n",
    "\n",
    "# File paths\n",
    "input_path = \"updated_annotations.json\"\n",
    "output_path = \"sorted_annotations.json\"\n",
    "\n",
    "# Desired key order (with some renaming)\n",
    "desired_order = [\n",
    "    \"video_id\",                    # true_label\n",
    "    \"transcript\",                  # transcript\n",
    "    \"audio_description\",\n",
    "    \"visual_expression_description\",\n",
    "    \"visual_objective_description\",\n",
    "    \"raw_AU_values_at_peak\",\n",
    "    \"peak_time\",\n",
    "    \"coarse-grained_summary\",\n",
    "    \"fine-grained_summary\", \n",
    "    \"true_label\"\n",
    "]\n",
    "\n",
    "# Load JSON\n",
    "with open(input_path, 'r') as f:\n",
    "    data = json.load(f)\n",
    "\n",
    "# Reorder each entry\n",
    "sorted_data = []\n",
    "for item in data:\n",
    "    sorted_item = {key: item.get(key) for key in desired_order if key in item}\n",
    "    # Add any remaining fields at the end (preserve them if present)\n",
    "    extras = {k: v for k, v in item.items() if k not in sorted_item}\n",
    "    sorted_item.update(extras)\n",
    "    sorted_data.append(sorted_item)\n",
    "\n",
    "# Save reordered JSON\n",
    "with open(output_path, 'w') as f:\n",
    "    json.dump(sorted_data, f, indent=4)\n",
    "\n",
    "print(f\"Reordered JSON saved to: {output_path}\")\n"
   ]
  },
  {
   "cell_type": "code",
   "execution_count": null,
   "metadata": {},
   "outputs": [],
   "source": []
  }
 ],
 "metadata": {
  "kernelspec": {
   "display_name": "emoConflict",
   "language": "python",
   "name": "python3"
  },
  "language_info": {
   "codemirror_mode": {
    "name": "ipython",
    "version": 3
   },
   "file_extension": ".py",
   "mimetype": "text/x-python",
   "name": "python",
   "nbconvert_exporter": "python",
   "pygments_lexer": "ipython3",
   "version": "3.9.22"
  }
 },
 "nbformat": 4,
 "nbformat_minor": 2
}
